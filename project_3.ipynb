{
 "cells": [
  {
   "cell_type": "markdown",
   "id": "3b0afd2b",
   "metadata": {},
   "source": [
    "# Project III\n",
    "\n",
    "##### Contributors: Armand Sandvik (), Eirik Søyland (244724) and Jørund Eldøy ()"
   ]
  },
  {
   "cell_type": "markdown",
   "id": "e07e9250",
   "metadata": {},
   "source": [
    "### Abstract"
   ]
  },
  {
   "cell_type": "markdown",
   "id": "58f36caa",
   "metadata": {},
   "source": [
    "### Introduction"
   ]
  },
  {
   "cell_type": "markdown",
   "id": "6c6bbf73",
   "metadata": {},
   "source": [
    "### Topic 1)"
   ]
  },
  {
   "cell_type": "markdown",
   "id": "338998d8",
   "metadata": {},
   "source": [
    "#### Task 1:"
   ]
  },
  {
   "cell_type": "code",
   "execution_count": null,
   "id": "f0c75e5f",
   "metadata": {
    "vscode": {
     "languageId": "plaintext"
    }
   },
   "outputs": [],
   "source": []
  },
  {
   "cell_type": "markdown",
   "id": "26142988",
   "metadata": {},
   "source": [
    "#### Task 2:"
   ]
  },
  {
   "cell_type": "code",
   "execution_count": null,
   "id": "364879a8",
   "metadata": {
    "vscode": {
     "languageId": "plaintext"
    }
   },
   "outputs": [],
   "source": []
  },
  {
   "cell_type": "markdown",
   "id": "0c0551bc",
   "metadata": {},
   "source": [
    "#### Task 3:"
   ]
  },
  {
   "cell_type": "code",
   "execution_count": null,
   "id": "7e5c1856",
   "metadata": {
    "vscode": {
     "languageId": "plaintext"
    }
   },
   "outputs": [],
   "source": []
  },
  {
   "cell_type": "markdown",
   "id": "2bcf0a28",
   "metadata": {},
   "source": [
    "#### Task 4:"
   ]
  },
  {
   "cell_type": "code",
   "execution_count": null,
   "id": "e8a9325f",
   "metadata": {
    "vscode": {
     "languageId": "plaintext"
    }
   },
   "outputs": [],
   "source": []
  },
  {
   "cell_type": "markdown",
   "id": "b387d351",
   "metadata": {},
   "source": [
    "#### Task 5:"
   ]
  },
  {
   "cell_type": "code",
   "execution_count": null,
   "id": "4dea5ea0",
   "metadata": {
    "vscode": {
     "languageId": "plaintext"
    }
   },
   "outputs": [],
   "source": []
  },
  {
   "cell_type": "markdown",
   "id": "79cae735",
   "metadata": {},
   "source": [
    "#### Task 6:"
   ]
  },
  {
   "cell_type": "code",
   "execution_count": null,
   "id": "2a81fdb1",
   "metadata": {
    "vscode": {
     "languageId": "plaintext"
    }
   },
   "outputs": [],
   "source": []
  },
  {
   "cell_type": "markdown",
   "id": "8580dfc3",
   "metadata": {},
   "source": [
    "#### Task 7:"
   ]
  },
  {
   "cell_type": "code",
   "execution_count": null,
   "id": "102bcb9a",
   "metadata": {
    "vscode": {
     "languageId": "plaintext"
    }
   },
   "outputs": [],
   "source": []
  },
  {
   "cell_type": "markdown",
   "id": "2a53a94e",
   "metadata": {},
   "source": [
    "#### Task 8:"
   ]
  },
  {
   "cell_type": "code",
   "execution_count": null,
   "id": "f1891929",
   "metadata": {
    "vscode": {
     "languageId": "plaintext"
    }
   },
   "outputs": [],
   "source": []
  },
  {
   "cell_type": "markdown",
   "id": "d5087dde",
   "metadata": {},
   "source": [
    "#### Task 9:"
   ]
  },
  {
   "cell_type": "code",
   "execution_count": null,
   "id": "770240ec",
   "metadata": {
    "vscode": {
     "languageId": "plaintext"
    }
   },
   "outputs": [],
   "source": []
  },
  {
   "cell_type": "markdown",
   "id": "7c5041b4",
   "metadata": {},
   "source": [
    "#### Task 10:"
   ]
  },
  {
   "cell_type": "code",
   "execution_count": null,
   "id": "743fd1f9",
   "metadata": {
    "vscode": {
     "languageId": "plaintext"
    }
   },
   "outputs": [],
   "source": []
  },
  {
   "cell_type": "markdown",
   "id": "395be521",
   "metadata": {},
   "source": [
    "### Topic 2)"
   ]
  },
  {
   "cell_type": "markdown",
   "id": "77f3d70c",
   "metadata": {},
   "source": [
    "#### Task 1:"
   ]
  },
  {
   "cell_type": "code",
   "execution_count": null,
   "id": "92a9e4c2",
   "metadata": {
    "vscode": {
     "languageId": "plaintext"
    }
   },
   "outputs": [],
   "source": []
  },
  {
   "cell_type": "markdown",
   "id": "70da81d4",
   "metadata": {},
   "source": [
    "#### Task 2:"
   ]
  },
  {
   "cell_type": "code",
   "execution_count": null,
   "id": "e8675666",
   "metadata": {
    "vscode": {
     "languageId": "plaintext"
    }
   },
   "outputs": [],
   "source": []
  },
  {
   "cell_type": "markdown",
   "id": "84fa65a4",
   "metadata": {},
   "source": [
    "#### Task 3:"
   ]
  },
  {
   "cell_type": "code",
   "execution_count": null,
   "id": "14038066",
   "metadata": {
    "vscode": {
     "languageId": "plaintext"
    }
   },
   "outputs": [],
   "source": []
  },
  {
   "cell_type": "markdown",
   "id": "92c59a97",
   "metadata": {},
   "source": [
    "#### Task 4:"
   ]
  },
  {
   "cell_type": "code",
   "execution_count": null,
   "id": "7f445c2b",
   "metadata": {
    "vscode": {
     "languageId": "plaintext"
    }
   },
   "outputs": [],
   "source": []
  },
  {
   "cell_type": "markdown",
   "id": "cb32e39c",
   "metadata": {},
   "source": [
    "#### Task 5:"
   ]
  },
  {
   "cell_type": "code",
   "execution_count": null,
   "id": "7b4d03c3",
   "metadata": {
    "vscode": {
     "languageId": "plaintext"
    }
   },
   "outputs": [],
   "source": []
  },
  {
   "cell_type": "markdown",
   "id": "c4a5eacf",
   "metadata": {},
   "source": [
    "### Summary/conclusion"
   ]
  },
  {
   "cell_type": "markdown",
   "id": "360b10bb",
   "metadata": {},
   "source": [
    "### Self-reflection"
   ]
  },
  {
   "cell_type": "markdown",
   "id": "7787da17",
   "metadata": {},
   "source": [
    "### Bibliography"
   ]
  }
 ],
 "metadata": {
  "language_info": {
   "name": "python"
  }
 },
 "nbformat": 4,
 "nbformat_minor": 5
}
